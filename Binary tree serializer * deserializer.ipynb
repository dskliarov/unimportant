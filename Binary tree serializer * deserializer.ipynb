{
 "cells": [
  {
   "cell_type": "code",
   "execution_count": 1,
   "metadata": {},
   "outputs": [
    {
     "name": "stderr",
     "output_type": "stream",
     "text": [
      "Using raw input\n"
     ]
    }
   ],
   "source": [
    ".rawInput"
   ]
  },
  {
   "cell_type": "code",
   "execution_count": 2,
   "metadata": {},
   "outputs": [],
   "source": [
    "#import <vector>\n",
    "#import <stack>\n",
    "#import <iostream>"
   ]
  },
  {
   "cell_type": "code",
   "execution_count": 3,
   "metadata": {},
   "outputs": [],
   "source": [
    "using namespace std;\n",
    "\n",
    "struct node {\n",
    "    char data;\n",
    "    struct node* left;\n",
    "    struct node* right;\n",
    "};"
   ]
  },
  {
   "cell_type": "code",
   "execution_count": 4,
   "metadata": {},
   "outputs": [],
   "source": [
    "namespace amazon_interview {\n",
    "    \n",
    "    using namespace std;    \n",
    "\n",
    "    vector<char> stack_to_vector(stack<char> * bf) {\n",
    "        vector<char> rslt;\n",
    "        while( !bf->empty() ) {\n",
    "            rslt.push_back(bf->top());\n",
    "            bf->pop();\n",
    "        }\n",
    "        return rslt;\n",
    "    }\n",
    "}"
   ]
  },
  {
   "cell_type": "code",
   "execution_count": 5,
   "metadata": {},
   "outputs": [],
   "source": [
    "namespace amazon_interview {\n",
    "    \n",
    "    using namespace std;    \n",
    "\n",
    "    void process_preorder_dfs(node * tree, stack<char> *  bf) \n",
    "    {\n",
    "        bf->push(tree->data);\n",
    "\n",
    "        if (tree->left != NULL) {\n",
    "            process_preorder_dfs(tree->left, bf);\n",
    "        }\n",
    "\n",
    "        if (tree->right != NULL) {\n",
    "            process_preorder_dfs(tree->right, bf);\n",
    "        }\n",
    "    }\n",
    "    \n",
    "    vector<char> preorder_dfs(node * tree) {\n",
    "        stack<char> bf;\n",
    "        amazon_interview::process_preorder_dfs(tree, &bf);\n",
    "        return amazon_interview::stack_to_vector(&bf);\n",
    "    }\n",
    "    \n",
    "}"
   ]
  },
  {
   "cell_type": "code",
   "execution_count": 6,
   "metadata": {},
   "outputs": [],
   "source": [
    "namespace amazon_interview {\n",
    "    \n",
    "    using namespace std;    \n",
    "    \n",
    "    void process_postorder_dfs(node * tree, stack<char> * bf) {\n",
    "\n",
    "        if (tree->left != NULL) {\n",
    "            process_postorder_dfs(tree->left, bf);\n",
    "        }\n",
    "\n",
    "        if (tree->right != NULL) {\n",
    "            process_postorder_dfs(tree->right, bf);\n",
    "        }\n",
    "\n",
    "        bf->push(tree->data);\n",
    "    }\n",
    "    \n",
    "     vector<char> postorder_dfs(node * tree) {\n",
    "        stack<char> bf;\n",
    "        process_postorder_dfs(tree, &bf);\n",
    "        return amazon_interview::stack_to_vector(&bf);\n",
    "    }   \n",
    "}"
   ]
  },
  {
   "cell_type": "code",
   "execution_count": 7,
   "metadata": {},
   "outputs": [],
   "source": [
    "namespace amazon_interview {\n",
    "    \n",
    "    using namespace std;    \n",
    "    \n",
    "    void process_inorder_dfs(node * tree, stack<char> * bf) {\n",
    "\n",
    "        if (tree->left != NULL) {\n",
    "            process_inorder_dfs(tree->left, bf);\n",
    "        }\n",
    "\n",
    "        bf->push(tree->data);\n",
    "\n",
    "        if (tree->right != NULL) {\n",
    "            process_inorder_dfs(tree->right, bf);        \n",
    "        }\n",
    "    }\n",
    "    \n",
    "    vector<char> inorder_dfs(node * tree) {\n",
    "        stack<char> bf;\n",
    "        process_inorder_dfs(tree, &bf);\n",
    "        return amazon_interview::stack_to_vector(&bf);\n",
    "    }   \n",
    "}"
   ]
  },
  {
   "cell_type": "code",
   "execution_count": 8,
   "metadata": {},
   "outputs": [],
   "source": [
    "namespace amazon_interview {\n",
    "        \n",
    "    node* new_node(char data) {\n",
    "        node* temp = new node();\n",
    "        temp->data = data;\n",
    "        temp->left = temp->right=NULL;\n",
    "        return (temp);\n",
    "    }\n",
    "}"
   ]
  },
  {
   "cell_type": "code",
   "execution_count": 9,
   "metadata": {},
   "outputs": [],
   "source": [
    "namespace amazon_interview {\n",
    "       \n",
    "    node* sample_tree() {\n",
    "        node* root = new_node('A');\n",
    "        root->left = new_node('B');\n",
    "        root->right = new_node('C');\n",
    "        root->left->left = new_node('D');\n",
    "        root->left->right = new_node('E');\n",
    "        root->left->left->left = new_node('F');\n",
    "        root->left->right->right = new_node('G');\n",
    "        return root;\n",
    "    }\n",
    "}"
   ]
  },
  {
   "cell_type": "code",
   "execution_count": 10,
   "metadata": {},
   "outputs": [
    {
     "name": "stderr",
     "output_type": "stream",
     "text": [
      "Not using raw input\n"
     ]
    }
   ],
   "source": [
    ".rawInput"
   ]
  },
  {
   "cell_type": "code",
   "execution_count": 11,
   "metadata": {},
   "outputs": [],
   "source": [
    "node* tree = amazon_interview::sample_tree();"
   ]
  },
  {
   "cell_type": "code",
   "execution_count": 12,
   "metadata": {},
   "outputs": [
    {
     "name": "stdout",
     "output_type": "stream",
     "text": [
      "Preorder dfs\n",
      "C G E F D B A \n",
      "Postorder dfs\n",
      "A C B E G D F \n",
      "Inorder dfs\n",
      "C A G E B D F "
     ]
    }
   ],
   "source": [
    "std::vector<char> preorder_dfs = amazon_interview::preorder_dfs(tree);\n",
    "std::cout << \"Preorder dfs\" << \"\\n\";\n",
    "for (char value : preorder_dfs) {\n",
    "    std::cout << value  << \" \";\n",
    "}\n",
    "\n",
    "std::cout << \"\\n\";\n",
    "\n",
    "std::vector<char> postorder_dfs = amazon_interview::postorder_dfs(tree);\n",
    "std::cout << \"Postorder dfs\" << \"\\n\";\n",
    "for (char value : postorder_dfs) {\n",
    "    std::cout << value  << \" \";\n",
    "}\n",
    "\n",
    "std::cout << \"\\n\";\n",
    "\n",
    "std::vector<char> inorder_dfs = amazon_interview::inorder_dfs(tree);\n",
    "std::cout << \"Inorder dfs\" << \"\\n\";\n",
    "for (char value : inorder_dfs) {\n",
    "    std::cout << value  << \" \";\n",
    "}"
   ]
  },
  {
   "cell_type": "code",
   "execution_count": null,
   "metadata": {},
   "outputs": [],
   "source": []
  },
  {
   "cell_type": "code",
   "execution_count": null,
   "metadata": {},
   "outputs": [],
   "source": []
  }
 ],
 "metadata": {
  "kernelspec": {
   "display_name": "C++17",
   "language": "C++17",
   "name": "xeus-cling-cpp17"
  },
  "language_info": {
   "codemirror_mode": "text/x-c++src",
   "file_extension": ".cpp",
   "mimetype": "text/x-c++src",
   "name": "c++",
   "version": "17"
  }
 },
 "nbformat": 4,
 "nbformat_minor": 2
}
