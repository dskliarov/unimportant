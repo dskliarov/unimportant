{
 "cells": [
  {
   "cell_type": "code",
   "execution_count": 1,
   "metadata": {},
   "outputs": [
    {
     "name": "stderr",
     "output_type": "stream",
     "text": [
      "Using raw input\n"
     ]
    }
   ],
   "source": [
    ".rawInput"
   ]
  },
  {
   "cell_type": "code",
   "execution_count": 2,
   "metadata": {},
   "outputs": [],
   "source": [
    "#import <vector>\n",
    "#import <stack>\n",
    "\n",
    "namespace amazon_interview {\n",
    "    \n",
    "    using namespace std;\n",
    "   \n",
    "    void process_element(stack<int> & tmp_stack, int v) {\n",
    "        if (tmp_stack.empty()) {\n",
    "            tmp_stack.push(v);\n",
    "            return;\n",
    "        }\n",
    "                \n",
    "     \n",
    "        if (v < tmp_stack.top()) {\n",
    "            tmp_stack.push(v);\n",
    "            return;\n",
    "        }\n",
    "        \n",
    "        tmp_stack.pop();\n",
    "        process_element(tmp_stack, v);\n",
    "    }\n",
    "    \n",
    "    vector<int> get_sunset_view(vector<int> & buildings) {\n",
    "        stack<int> s;\n",
    "        vector<int> rslt;\n",
    "        for (int i = buildings.size() - 1; i >= 0; i--) {\n",
    "            process_element(s, buildings[i]);\n",
    "        } \n",
    "        while(!s.empty()) {\n",
    "            rslt.push_back(s.top());\n",
    "            s.pop();\n",
    "        }\n",
    "        \n",
    "        return rslt;\n",
    "        \n",
    "    }\n",
    "\n",
    "}"
   ]
  },
  {
   "cell_type": "code",
   "execution_count": 3,
   "metadata": {},
   "outputs": [],
   "source": [
    "static const int arr[] = {10, 7, 6, 12, 14, 3, 2, 23, 4, 8, 12};\n",
    "\n",
    "std::vector<int> v (arr, arr + sizeof(arr)/sizeof(arr[0]));"
   ]
  },
  {
   "cell_type": "code",
   "execution_count": 4,
   "metadata": {},
   "outputs": [
    {
     "name": "stderr",
     "output_type": "stream",
     "text": [
      "Not using raw input\n"
     ]
    }
   ],
   "source": [
    ".rawInput"
   ]
  },
  {
   "cell_type": "code",
   "execution_count": 5,
   "metadata": {},
   "outputs": [
    {
     "name": "stdout",
     "output_type": "stream",
     "text": [
      "Buildings\n",
      "10 7 6 12 14 3 2 23 4 8 12 \n",
      "\n",
      "Buildings which have sunset view\n",
      "10 12 14 23 "
     ]
    }
   ],
   "source": [
    "std::vector<int> sunset_view = amazon_interview::get_sunset_view(v);\n",
    "\n",
    "std::cout << \"Buildings\" << \"\\n\";\n",
    "\n",
    "for(int i : v)\n",
    "{\n",
    "    std::cout << i << \" \";\n",
    "}\n",
    "\n",
    "std::cout << \"\\n\\n\";\n",
    "\n",
    "std::cout << \"Buildings which have sunset view\" << \"\\n\";\n",
    "\n",
    "for(int i : sunset_view)\n",
    "{\n",
    "    std::cout << i << \" \";\n",
    "}"
   ]
  },
  {
   "cell_type": "code",
   "execution_count": null,
   "metadata": {},
   "outputs": [],
   "source": []
  }
 ],
 "metadata": {
  "kernelspec": {
   "display_name": "C++17",
   "language": "C++17",
   "name": "xeus-cling-cpp17"
  },
  "language_info": {
   "codemirror_mode": "text/x-c++src",
   "file_extension": ".cpp",
   "mimetype": "text/x-c++src",
   "name": "c++",
   "version": "17"
  }
 },
 "nbformat": 4,
 "nbformat_minor": 2
}
